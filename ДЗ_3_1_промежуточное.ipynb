{
  "nbformat": 4,
  "nbformat_minor": 0,
  "metadata": {
    "colab": {
      "name": "ДЗ 3-1 промежуточное",
      "provenance": [],
      "collapsed_sections": [],
      "toc_visible": true,
      "include_colab_link": true
    },
    "kernelspec": {
      "name": "python3",
      "display_name": "Python 3"
    }
  },
  "cells": [
    {
      "cell_type": "markdown",
      "metadata": {
        "id": "view-in-github",
        "colab_type": "text"
      },
      "source": [
        "<a href=\"https://colab.research.google.com/github/deepluckyperson/sber_homework/blob/main/%D0%94%D0%97_3_1_%D0%BF%D1%80%D0%BE%D0%BC%D0%B5%D0%B6%D1%83%D1%82%D0%BE%D1%87%D0%BD%D0%BE%D0%B5.ipynb\" target=\"_parent\"><img src=\"https://colab.research.google.com/assets/colab-badge.svg\" alt=\"Open In Colab\"/></a>"
      ]
    },
    {
      "cell_type": "markdown",
      "metadata": {
        "id": "-PkQ9hSoulSP"
      },
      "source": [
        "## Домашнее задание. Часть 1.\n",
        "\n",
        "- напишем свою собственную библиотеку\n",
        "\n",
        "Вего за эту часть ДЗ можно набрать максимум **11.5 баллов**. Разбиение баллов по каждой из задач представлено непосредственно перед текстом каждой задачи.\n",
        "\n",
        "**Дедлайн - пятница, 11.12.2020 в 23:59.**\n",
        "\n",
        "Дедлайн жесткий, сдача после дедлайна - 0 баллов за ДЗ."
      ]
    },
    {
      "cell_type": "markdown",
      "metadata": {
        "id": "raMUrDs_OUUp"
      },
      "source": [
        "Ссылка на ноутбук в колабе: https://colab.research.google.com/drive/1LgWtESFmiNW1WlVFCHKyNl_BxAWxoL3Z?usp=sharing"
      ]
    },
    {
      "cell_type": "markdown",
      "metadata": {
        "id": "DlJPKMxvBZDq"
      },
      "source": [
        "Допустим мы хотим написать фнкцию, которая складывает 2 числа и сохранить ее в отдельный .py файл. Пример:"
      ]
    },
    {
      "cell_type": "code",
      "metadata": {
        "colab": {
          "base_uri": "https://localhost:8080/"
        },
        "id": "YWxx_tJFBWXc",
        "outputId": "d14760b6-9fee-4652-857d-ecd9bf5d2e32"
      },
      "source": [
        "%%writefile lib.py\n",
        "def summ(a1, b1):\n",
        "    return a1+b1"
      ],
      "execution_count": 1,
      "outputs": [
        {
          "output_type": "stream",
          "text": [
            "Writing lib.py\n"
          ],
          "name": "stdout"
        }
      ]
    },
    {
      "cell_type": "code",
      "metadata": {
        "id": "GpwqwV2XBWe0"
      },
      "source": [
        "from lib import summ"
      ],
      "execution_count": 2,
      "outputs": []
    },
    {
      "cell_type": "code",
      "metadata": {
        "colab": {
          "base_uri": "https://localhost:8080/"
        },
        "id": "PdSwrEkYud_1",
        "outputId": "18711dbe-6cd9-4f21-bea4-9d47a159f1b7"
      },
      "source": [
        "summ(2,6)"
      ],
      "execution_count": 3,
      "outputs": [
        {
          "output_type": "execute_result",
          "data": {
            "text/plain": [
              "8"
            ]
          },
          "metadata": {
            "tags": []
          },
          "execution_count": 3
        }
      ]
    },
    {
      "cell_type": "markdown",
      "metadata": {
        "id": "lzVEq6dcB_B6"
      },
      "source": [
        "Попробуем запустить через \"терминал\""
      ]
    },
    {
      "cell_type": "code",
      "metadata": {
        "id": "GnvjY52dB9F0"
      },
      "source": [
        "!python3 lib.py"
      ],
      "execution_count": 4,
      "outputs": []
    },
    {
      "cell_type": "markdown",
      "metadata": {
        "id": "12k4C-iDCGD5"
      },
      "source": [
        "Ничего не происходит. А теперь добавим `if __name__ == \"__main__\"` в наш код и пересохраним файл lib.py"
      ]
    },
    {
      "cell_type": "code",
      "metadata": {
        "colab": {
          "base_uri": "https://localhost:8080/"
        },
        "id": "EXxDy4EoujyT",
        "outputId": "907fa29c-3f91-4f93-d8d3-5b943371f34a"
      },
      "source": [
        "%%writefile lib.py\n",
        "import sys\n",
        "\n",
        "a1 = float( sys.argv[1] ) # Считываем аргументы прямо из терминала\n",
        "b1 = float( sys.argv[2] ) # Считываем аргументы прямо из терминала\n",
        "\n",
        "def summ(a1, b1):\n",
        "    return a1+b1\n",
        "\n",
        "if __name__ == \"__main__\":\n",
        "    print(summ(a1, b1))\n"
      ],
      "execution_count": 5,
      "outputs": [
        {
          "output_type": "stream",
          "text": [
            "Overwriting lib.py\n"
          ],
          "name": "stdout"
        }
      ]
    },
    {
      "cell_type": "code",
      "metadata": {
        "colab": {
          "base_uri": "https://localhost:8080/"
        },
        "id": "9kg9IKcWuj1F",
        "outputId": "8a0b51a9-05aa-402e-b97f-8fcfec8f2888"
      },
      "source": [
        "!python3 lib.py 2 4"
      ],
      "execution_count": 6,
      "outputs": [
        {
          "output_type": "stream",
          "text": [
            "6.0\n"
          ],
          "name": "stdout"
        }
      ]
    },
    {
      "cell_type": "markdown",
      "metadata": {
        "id": "MEQd0OJnD4ut"
      },
      "source": [
        "# **Задание 1**\n",
        "\n",
        "Реализуйте следующие функции и сохраните их в библиотеку **my_math_lib.py** (пока без использования конструкции `if __name__ == \"__main__\"`)"
      ]
    },
    {
      "cell_type": "markdown",
      "metadata": {
        "id": "-irvYNmrD9FA"
      },
      "source": [
        "**1 point** \n",
        "1. **def deg_to_rad()**. Напишите программу на Python для преобразования градусов в радианы.  *(Note: Радиан - это стандартная единица измерения угла, используемая во многих областях математики. Измерение угла в радианах численно равно длине соответствующей дуги единичного круга; один радиан чуть меньше 57,3 градуса)* **1 point**\n",
        "\n",
        "**1 point** \n",
        "2. **def rad_to_def()**. Напишите программу Python для преобразования радианов в градусы.\n",
        "\n",
        "**1.5 point** \n",
        "3. **def discriminant()**. Напишите программу на Python для вычисления значения дискриминанта (вспоминаем квадратные уравнения). Входные данные три числа: x, y, z (учтите что корни могут быть комлЕксными!)\n",
        "\n",
        "**1.5 point** \n",
        "4. **def power_base_sum()**. Напишите программу на Python, чтобы вычислить сумму всех цифр основания в указанной степени.\n",
        "\n",
        "Пример: power_base_sum(2, 100)\n",
        "\n",
        "Выход: 115\n",
        "\n",
        "\n",
        "\n",
        "**2 point** \n",
        "5. **def magic_square()**. Напишите программу на Python для вычисления [магического квадрата](https://ru.wikipedia.org/wiki/Магический_квадрат)\n",
        "\n",
        "Note:\n",
        "\n",
        "Магический, или волшебный квадрат — это квадратная таблица , заполненная числами таким образом, что сумма чисел в каждой строке, каждом столбце и на обеих диагоналях одинакова. Сумма чисел в каждой строке, столбце и на диагоналях, называется магической константой, M.\n",
        "\n",
        "**1 point** \n",
        "6. **def mult_list()**. Напишите функцию Python для умножения всех чисел в массиве list(), (размер листа на входе произвольный)\n",
        "\n",
        "**1 point** \n",
        "7. **def create_list()**. Напишите функцию Python для создания и вывода списка (при помощи print()), в котором значения представляют собой квадрат чисел от 1 до 30 (оба включительно)."
      ]
    },
    {
      "cell_type": "code",
      "metadata": {
        "id": "cxjYPNRAIBqe",
        "colab": {
          "base_uri": "https://localhost:8080/"
        },
        "outputId": "8c9b007f-5e51-47fe-cabe-6a56061e4593"
      },
      "source": [
        "%%writefile my_math_lib.py\n",
        "import math\n",
        "import numpy as np\n",
        "def deg_to_rad(a):\n",
        "  res = a*(math.pi/180)\n",
        "  return res\n",
        "def rad_to_deg(a):\n",
        "  res = a*(180/math.pi)\n",
        "  return res\n",
        "def discriminant(a,b,c):   \n",
        "  res = ((b ** 2) - 4 * a * c)\n",
        "  return res\n",
        "def power_base_sum(a,b):    \n",
        "  res = a**b\n",
        "  return sum(map(int,str(res)))\n",
        "def magic_square(n):\n",
        "  A = np.zeros([n,n])\n",
        "  for i in range(n):\n",
        "    A[i][i] = (n-1)/2\n",
        "    for k in range(n):\n",
        "      if k<(n-1)/2:\n",
        "        if i+k+1<n:\n",
        "          A[i][i+k+1]=k\n",
        "        else:\n",
        "          A[i][i+k+1-n]=k\n",
        "      else:\n",
        "        if k == (n-1)/2:\n",
        "          pass\n",
        "        else:\n",
        "          if k+i<n:\n",
        "            A[i][i+k] = k\n",
        "          else:\n",
        "            A[i][i+k-n] = k\n",
        "  B = np.zeros([n,n])\n",
        "  for i in range(n):\n",
        "    for k in range(n):\n",
        "      B[i][k] = A[i][k]*n+A[i][n-1-k]+1\n",
        "  return B\n",
        "def mult_list(a):\n",
        "  a = [i for i in range(1, a+1)]\n",
        "  res = np.prod(a)\n",
        "  return res\n",
        "def create_list():\n",
        "  a = 30\n",
        "  lst = [i for i in range(a)]\n",
        "  lst2 = []\n",
        "  for i in range(len(lst)):\n",
        "    res = (i+1)**2\n",
        "    lst2.append (res)\n",
        "  print (lst2)"
      ],
      "execution_count": 9,
      "outputs": [
        {
          "output_type": "stream",
          "text": [
            "Overwriting my_math_lib.py\n"
          ],
          "name": "stdout"
        }
      ]
    },
    {
      "cell_type": "code",
      "metadata": {
        "id": "YcvXEEFsD8Pn",
        "colab": {
          "base_uri": "https://localhost:8080/"
        },
        "outputId": "cbe7129a-bb23-46e9-e63f-90851996496d"
      },
      "source": [
        "from my_math_lib import *\n",
        "print (deg_to_rad(10))\n",
        "print (rad_to_deg(100))\n",
        "print (discriminant(1,2,3))\n",
        "print (power_base_sum(3,5))\n",
        "print (magic_square(3))\n",
        "print (mult_list(4))\n",
        "print (create_list())\n"
      ],
      "execution_count": 10,
      "outputs": [
        {
          "output_type": "stream",
          "text": [
            "0.17453292519943295\n",
            "5729.5779513082325\n",
            "-8\n",
            "9\n",
            "[[6. 1. 8.]\n",
            " [7. 5. 3.]\n",
            " [2. 9. 4.]]\n",
            "24\n",
            "[1, 4, 9, 16, 25, 36, 49, 64, 81, 100, 121, 144, 169, 196, 225, 256, 289, 324, 361, 400, 441, 484, 529, 576, 625, 676, 729, 784, 841, 900]\n",
            "None\n"
          ],
          "name": "stdout"
        }
      ]
    },
    {
      "cell_type": "markdown",
      "metadata": {
        "id": "cSdLK3ZSID3B"
      },
      "source": [
        "# **Задание 2**\n",
        "Импортируйте все методы из модуля my_math_lib.\n",
        "\n",
        " **0.25 point** \n",
        " - при помощи функции **def discriminant()** посчитайте дискриминант следующего уравнения: \n",
        " $x^{2}+3 x+4=0$\n",
        "\n",
        "**0.25 point** \n",
        " - постройте магический квадрат размера 5х5"
      ]
    },
    {
      "cell_type": "code",
      "metadata": {
        "id": "k1Jhjs6FD8Sy"
      },
      "source": [
        "from my_math_lib import * #TODO"
      ],
      "execution_count": null,
      "outputs": []
    },
    {
      "cell_type": "code",
      "metadata": {
        "id": "zjQVS7m8uj4J",
        "colab": {
          "base_uri": "https://localhost:8080/"
        },
        "outputId": "9fcc6ff2-8de3-41e7-edcc-cc5b89ced7ed"
      },
      "source": [
        "discriminant(1,3,4)"
      ],
      "execution_count": 12,
      "outputs": [
        {
          "output_type": "execute_result",
          "data": {
            "text/plain": [
              "-7"
            ]
          },
          "metadata": {
            "tags": []
          },
          "execution_count": 12
        }
      ]
    },
    {
      "cell_type": "code",
      "metadata": {
        "colab": {
          "base_uri": "https://localhost:8080/"
        },
        "id": "8lAJmzprF4m6",
        "outputId": "bc17b52a-9ffa-4b17-8ef4-bc190cacc75d"
      },
      "source": [
        "magic_square(5)"
      ],
      "execution_count": 13,
      "outputs": [
        {
          "output_type": "execute_result",
          "data": {
            "text/plain": [
              "array([[15.,  4.,  7., 16., 23.],\n",
              "       [24., 12.,  1.,  8., 20.],\n",
              "       [17., 21., 13.,  5.,  9.],\n",
              "       [ 6., 18., 25., 14.,  2.],\n",
              "       [ 3., 10., 19., 22., 11.]])"
            ]
          },
          "metadata": {
            "tags": []
          },
          "execution_count": 13
        }
      ]
    },
    {
      "cell_type": "markdown",
      "metadata": {
        "id": "1xqoQlZkId3s"
      },
      "source": [
        "# **Задание 3**\n",
        "\n",
        "**2 point**\n",
        "* Добавьте в вашу библиотеку конструкцию `if __name__ == \"__main__\"`, которая должна принимать одну из вышеперечисленных функций. \n",
        "* Важно! аргументы, подаваемые в функцию, должны подаваться напряму через терминал (как в примере)! Используйте для этого библиотеку `sys`"
      ]
    },
    {
      "cell_type": "code",
      "metadata": {
        "id": "CPMx4V4DJIVx",
        "colab": {
          "base_uri": "https://localhost:8080/"
        },
        "outputId": "28b1dd23-5d1d-4f66-9f78-2f4955c2767b"
      },
      "source": [
        "%%writefile my_math_lib.py\n",
        "import sys\n",
        "import math\n",
        "import numpy as np\n",
        "\n",
        "a = float( sys.argv[1] ) \n",
        "b = float( sys.argv[2] ) \n",
        "c = float( sys.argv[3] ) \n",
        "\n",
        "def deg_to_rad(a):\n",
        "  res = a*(math.pi/180)\n",
        "  return res\n",
        "def rad_to_deg(a):\n",
        "  res = a*(180/math.pi)\n",
        "  return res\n",
        "def discriminant(a,b,c):   \n",
        "  res = ((b ** 2) - 4 * a * c)\n",
        "  return res\n",
        "def power_base_sum(a,b):    \n",
        "  res = a**b\n",
        "  return sum(map(int,str(res)))\n",
        "def magic_square(n):\n",
        "  A = np.zeros([n,n])\n",
        "  for i in range(n):\n",
        "    A[i][i] = (n-1)/2\n",
        "    for k in range(n):\n",
        "      if k<(n-1)/2:\n",
        "        if i+k+1<n:\n",
        "          A[i][i+k+1]=k\n",
        "        else:\n",
        "          A[i][i+k+1-n]=k\n",
        "      else:\n",
        "        if k == (n-1)/2:\n",
        "          pass\n",
        "        else:\n",
        "          if k+i<n:\n",
        "            A[i][i+k] = k\n",
        "          else:\n",
        "            A[i][i+k-n] = k\n",
        "  B = np.zeros([n,n])\n",
        "  for i in range(n):\n",
        "    for k in range(n):\n",
        "      B[i][k] = A[i][k]*n+A[i][n-1-k]+1\n",
        "  return B\n",
        "def mult_list(a):\n",
        "  a = [i for i in range(1, a+1)]\n",
        "  res = np.prod(a)\n",
        "  return res\n",
        "def create_list():\n",
        "  a = 30\n",
        "  lst = [i for i in range(a)]\n",
        "  lst2 = []\n",
        "  for i in range(len(lst)):\n",
        "    res = (i+1)**2\n",
        "    lst2.append (res)\n",
        "  print (lst2)\n",
        "\n",
        "if __name__ == \"__main__\":\n",
        "    print(discriminant(a,b,c))"
      ],
      "execution_count": 14,
      "outputs": [
        {
          "output_type": "stream",
          "text": [
            "Overwriting my_math_lib.py\n"
          ],
          "name": "stdout"
        }
      ]
    },
    {
      "cell_type": "code",
      "metadata": {
        "id": "RAeJ3p1BJX05",
        "colab": {
          "base_uri": "https://localhost:8080/"
        },
        "outputId": "22f2898f-6e6c-47b8-b5e2-1111c9a8461e"
      },
      "source": [
        "# Пример вызова функции - Вы можете вызвать любую другую\n",
        "!python3 my_math_lib.py 3,4,5 # Например если в __main__ вы указали def discriminant()"
      ],
      "execution_count": 15,
      "outputs": [
        {
          "output_type": "stream",
          "text": [
            "Traceback (most recent call last):\n",
            "  File \"my_math_lib.py\", line 5, in <module>\n",
            "    a = float( sys.argv[1] ) \n",
            "ValueError: could not convert string to float: '3,4,5'\n"
          ],
          "name": "stdout"
        }
      ]
    },
    {
      "cell_type": "code",
      "metadata": {
        "id": "UDQ_wTJbJAS7",
        "colab": {
          "base_uri": "https://localhost:8080/"
        },
        "outputId": "25058b3b-a064-4cae-811f-afa35c09fd79"
      },
      "source": [
        "!python3 my_math_lib.py 4 2 3"
      ],
      "execution_count": 16,
      "outputs": [
        {
          "output_type": "stream",
          "text": [
            "-44.0\n"
          ],
          "name": "stdout"
        }
      ]
    }
  ]
}
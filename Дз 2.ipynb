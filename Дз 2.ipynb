{
  "nbformat": 4,
  "nbformat_minor": 0,
  "metadata": {
    "colab": {
      "name": "Копия блокнота \"Занятие 2: ООП. Библиотеки для DS_solved.ipynb\"",
      "provenance": [],
      "collapsed_sections": [],
      "include_colab_link": true
    },
    "kernelspec": {
      "display_name": "Python 3",
      "name": "python3"
    }
  },
  "cells": [
    {
      "cell_type": "markdown",
      "metadata": {
        "id": "view-in-github",
        "colab_type": "text"
      },
      "source": [
        "<a href=\"https://colab.research.google.com/github/deepluckyperson/sber_homework/blob/main/%D0%94%D0%B7%202.ipynb\" target=\"_parent\"><img src=\"https://colab.research.google.com/assets/colab-badge.svg\" alt=\"Open In Colab\"/></a>"
      ]
    },
    {
      "cell_type": "markdown",
      "metadata": {
        "id": "DgjE2TBfFGyS"
      },
      "source": [
        "# ДЗ"
      ]
    },
    {
      "cell_type": "code",
      "metadata": {
        "id": "D-Lc19J4WL-3"
      },
      "source": [
        "# загрузим библиотеки\n",
        "import numpy as np\n",
        "import pandas as pd"
      ],
      "execution_count": 204,
      "outputs": []
    },
    {
      "cell_type": "markdown",
      "metadata": {
        "id": "ZYcKnimkFRrD"
      },
      "source": [
        "## Задание 1\n",
        "\n",
        "Создайте массив массив из 100 элементов (от 1 до 100), переформатируйте в формат (10 * 10), сделайте слайсинг с шагом 2 по каждой оси."
      ]
    },
    {
      "cell_type": "code",
      "metadata": {
        "colab": {
          "base_uri": "https://localhost:8080/"
        },
        "id": "wAPfX3erFUqa",
        "outputId": "d82b85c2-bbb0-476f-ff02-c0338e793aef"
      },
      "source": [
        "x = []\n",
        "for i in range(1,101):\n",
        "  x.append(i)\n",
        "x = np.array(x, dtype=float)\n",
        "x = x.reshape(10, 10)\n",
        "x[::2, ::2]\n"
      ],
      "execution_count": null,
      "outputs": [
        {
          "output_type": "execute_result",
          "data": {
            "text/plain": [
              "array([[ 1.,  3.,  5.,  7.,  9.],\n",
              "       [21., 23., 25., 27., 29.],\n",
              "       [41., 43., 45., 47., 49.],\n",
              "       [61., 63., 65., 67., 69.],\n",
              "       [81., 83., 85., 87., 89.]])"
            ]
          },
          "metadata": {
            "tags": []
          },
          "execution_count": 41
        }
      ]
    },
    {
      "cell_type": "markdown",
      "metadata": {
        "id": "SrI3heKeV7nP"
      },
      "source": [
        "## Задание 2\n",
        "\n",
        "Написать функцию, которая по заданной длине последовательности находит среднее арифметическое ее членов.\n",
        "\n",
        "Реализуйте задачу с и без помощи numpy, сравните время выполнения"
      ]
    },
    {
      "cell_type": "code",
      "metadata": {
        "colab": {
          "base_uri": "https://localhost:8080/"
        },
        "id": "2-5-E2pCV_Ot",
        "outputId": "659d0f52-2668-432a-f059-7a0ef3897e0c"
      },
      "source": [
        "# решение с использованием numpy\n",
        "# для оценки времени исоплнения блока\n",
        "%%time\n",
        "# зададим длину нашей последовательности\n",
        "dlina_posl = 100_000_000\n",
        "\n",
        "def aver(arr):\n",
        "  x = np.arange (0, arr)\n",
        "  y = np.mean(x)\n",
        "  print (y)\n",
        "\n",
        "aver(dlina_posl)\n",
        "\n",
        "# ваш код тут\n"
      ],
      "execution_count": 407,
      "outputs": [
        {
          "output_type": "stream",
          "text": [
            "49999999.5\n",
            "CPU times: user 377 ms, sys: 12.6 ms, total: 390 ms\n",
            "Wall time: 394 ms\n"
          ],
          "name": "stdout"
        }
      ]
    },
    {
      "cell_type": "code",
      "metadata": {
        "colab": {
          "base_uri": "https://localhost:8080/"
        },
        "id": "9e3X5PEpWBjA",
        "outputId": "38eea253-ba29-428c-eb0f-d9a7b3d353b7"
      },
      "source": [
        "# решение без использования numpy\n",
        "# для оценки времени исоплнения блока\n",
        "%%time\n",
        "\n",
        "\n",
        "# ваш код тут\n",
        "\n",
        "def aver1(arr):\n",
        "  ls = [i for i in range(0, arr)]\n",
        "  s = 0\n",
        "  for x in ls:\n",
        "    s += x\n",
        "  s /= len(ls)  \n",
        "  print (s)\n",
        "\n",
        "aver1(dlina_posl)"
      ],
      "execution_count": 408,
      "outputs": [
        {
          "output_type": "stream",
          "text": [
            "49999999.5\n",
            "CPU times: user 9.13 s, sys: 1.76 s, total: 10.9 s\n",
            "Wall time: 10.9 s\n"
          ],
          "name": "stdout"
        }
      ]
    },
    {
      "cell_type": "markdown",
      "metadata": {
        "id": "rN5yJLU4WF_6"
      },
      "source": [
        ""
      ]
    },
    {
      "cell_type": "markdown",
      "metadata": {
        "id": "aF_IhXzJFWzJ"
      },
      "source": [
        "## Задание 3 *(необязательно)\n",
        "\n",
        "Задан Series объект s, найти индекс первого элемента отсортированного s, где значения больше 5"
      ]
    },
    {
      "cell_type": "code",
      "metadata": {
        "colab": {
          "base_uri": "https://localhost:8080/"
        },
        "id": "PzrBc2RRFYom",
        "outputId": "6f3c2bb7-7410-4731-c197-2f33a2f24a45"
      },
      "source": [
        "# задано изначально\n",
        "r = np.random.RandomState(1)\n",
        "s = pd.Series(r.uniform(0, 10, 100))\n",
        "s = s.sort_values()\n",
        "s[s>5].index[0]\n",
        "\n"
      ],
      "execution_count": null,
      "outputs": [
        {
          "output_type": "execute_result",
          "data": {
            "text/plain": [
              "67"
            ]
          },
          "metadata": {
            "tags": []
          },
          "execution_count": 67
        }
      ]
    },
    {
      "cell_type": "markdown",
      "metadata": {
        "id": "lK7mPJPRWcs2"
      },
      "source": [
        "## Задание 4\n",
        "\n",
        "Предположим, что мы наблюдаем за некоторым признаком нашего датасета, но в данных есть пропуски. Ваша задача: реализовать алгоритм заполнения пропущенных значений последним известным с помощью средств python и pandas. (подсказка: вам может помочь функция np.isnan(), которая возвращает True, если число - nan. Для реализации с пандас стоит посмотреть на метод .fillna).\n",
        "\n",
        "Изначальный код с инициализацией такого датасета предоставлен."
      ]
    },
    {
      "cell_type": "code",
      "metadata": {
        "colab": {
          "base_uri": "https://localhost:8080/",
          "height": 416
        },
        "id": "Eu5g1x-hWcA1",
        "outputId": "3fa4771c-18f4-43a3-9e24-30f95f67ab33"
      },
      "source": [
        "# импортируем библиотеку для создания шума\n",
        "import random\n",
        "# библиотека для визуализации\n",
        "import matplotlib.pyplot as plt\n",
        "\n",
        "# создадим наши данные и добавим к каждой точке синусоиды случайный шум\n",
        "a = np.linspace(0, 25, 100)\n",
        "a = np.sin(a) + [random.gauss(0, 0.2) for i in range(len(a))]\n",
        "\n",
        "# создадим 10 случайных пропусков\n",
        "for i in range(10):\n",
        "    a[random.randint(0, len(a) - 1)] = None\n",
        "# создадим датафрейм\n",
        "df = pd.DataFrame({'target':a})\n",
        "\n",
        "# ваш код тут\n",
        "\n",
        "#python\n",
        "for ind, val in np.ndenumerate(df.values):\n",
        "    if np.isnan(val):\n",
        "        ind = np.array(ind)\n",
        "        df.values[ind] = df.values[ind -1]\n",
        "\n",
        "#pandas\n",
        "df.fillna(method = 'ffill', inplace = True)\n",
        "pd.isnull(df)\n",
        "df.info()\n",
        "\n",
        "# отобразим\n",
        "\n",
        "plt.plot(df.target.values)"
      ],
      "execution_count": 409,
      "outputs": [
        {
          "output_type": "stream",
          "text": [
            "<class 'pandas.core.frame.DataFrame'>\n",
            "RangeIndex: 100 entries, 0 to 99\n",
            "Data columns (total 1 columns):\n",
            " #   Column  Non-Null Count  Dtype  \n",
            "---  ------  --------------  -----  \n",
            " 0   target  100 non-null    float64\n",
            "dtypes: float64(1)\n",
            "memory usage: 928.0 bytes\n"
          ],
          "name": "stdout"
        },
        {
          "output_type": "execute_result",
          "data": {
            "text/plain": [
              "[<matplotlib.lines.Line2D at 0x7f214f660ac8>]"
            ]
          },
          "metadata": {
            "tags": []
          },
          "execution_count": 409
        },
        {
          "output_type": "display_data",
          "data": {
            "image/png": "[encoded data removed]",
            "text/plain": [
              "<Figure size 432x288 with 1 Axes>"
            ]
          },
          "metadata": {
            "tags": [],
            "needs_background": "light"
          }
        }
      ]
    },
    {
      "cell_type": "markdown",
      "metadata": {
        "id": "5gYj1TeyW9Aq"
      },
      "source": [
        "## Задание 5 *(необязательно)\n",
        "\n",
        "Имеется небольшой игрушечный датафрейм, в котором необходимо провести несколько типов фильтраций (ответы ищите в решениях) и отобразить результат:\n",
        "\n",
        "* всех, кто старше 40\n",
        "* всех, кто имеет доход выше среднего по датасету\n",
        "* всех, кто имеет доход выше среднего по датасету, но надежность ниже среднего по датасету\n",
        "\n",
        "создать новые столбцы:\n",
        "\n",
        "* важность клиента = доход * надежность\n",
        "* возможная долгосрочность клиента = важность клиента * (средний возраст по датасету - возраст клиента)\n",
        "\n",
        "`подсказка: двойные условия записываются так: (условие 1) & (условие 2)`\n",
        "\n",
        "\n",
        "** примечание: столбцы не имеют отношения к реальным формулам или моделям, они необходимы только для наглядности"
      ]
    },
    {
      "cell_type": "code",
      "metadata": {
        "colab": {
          "base_uri": "https://localhost:8080/",
          "height": 171
        },
        "id": "vHvedF6tXAWF",
        "outputId": "f65d673f-77af-44bf-e4cd-72a8b96f24c9"
      },
      "source": [
        "# создадим тестовый датасет\n",
        "df = pd.DataFrame({\n",
        "    'имя': ['Петя', 'Вася', 'Аня', 'Света'],\n",
        "    'возраст': [45, 26, 41 , 21],\n",
        "    'доход': [100000, 80000, 150000, 60000],\n",
        "    'надежность клиента (0..1)': [0.65, 0.74, 0.87, 0.68],\n",
        "    'пол': ['муж', 'муж', 'жен', 'жен']},\n",
        "    index=[0, 1, 2, 3])\n",
        "\n",
        "# ваш код тут\n"
      ],
      "execution_count": null,
      "outputs": [
        {
          "output_type": "execute_result",
          "data": {
            "text/html": [
              "<div>\n",
              "<style scoped>\n",
              "    .dataframe tbody tr th:only-of-type {\n",
              "        vertical-align: middle;\n",
              "    }\n",
              "\n",
              "    .dataframe tbody tr th {\n",
              "        vertical-align: top;\n",
              "    }\n",
              "\n",
              "    .dataframe thead th {\n",
              "        text-align: right;\n",
              "    }\n",
              "</style>\n",
              "<table border=\"1\" class=\"dataframe\">\n",
              "  <thead>\n",
              "    <tr style=\"text-align: right;\">\n",
              "      <th></th>\n",
              "      <th>имя</th>\n",
              "      <th>возраст</th>\n",
              "      <th>доход</th>\n",
              "      <th>надежность клиента (0..1)</th>\n",
              "      <th>пол</th>\n",
              "    </tr>\n",
              "  </thead>\n",
              "  <tbody>\n",
              "    <tr>\n",
              "      <th>0</th>\n",
              "      <td>Петя</td>\n",
              "      <td>45</td>\n",
              "      <td>100000</td>\n",
              "      <td>0.65</td>\n",
              "      <td>муж</td>\n",
              "    </tr>\n",
              "    <tr>\n",
              "      <th>1</th>\n",
              "      <td>Вася</td>\n",
              "      <td>26</td>\n",
              "      <td>80000</td>\n",
              "      <td>0.74</td>\n",
              "      <td>муж</td>\n",
              "    </tr>\n",
              "    <tr>\n",
              "      <th>2</th>\n",
              "      <td>Аня</td>\n",
              "      <td>41</td>\n",
              "      <td>150000</td>\n",
              "      <td>0.87</td>\n",
              "      <td>жен</td>\n",
              "    </tr>\n",
              "    <tr>\n",
              "      <th>3</th>\n",
              "      <td>Света</td>\n",
              "      <td>21</td>\n",
              "      <td>60000</td>\n",
              "      <td>0.68</td>\n",
              "      <td>жен</td>\n",
              "    </tr>\n",
              "  </tbody>\n",
              "</table>\n",
              "</div>"
            ],
            "text/plain": [
              "     имя  возраст   доход  надежность клиента (0..1)  пол\n",
              "0   Петя       45  100000                       0.65  муж\n",
              "1   Вася       26   80000                       0.74  муж\n",
              "2    Аня       41  150000                       0.87  жен\n",
              "3  Света       21   60000                       0.68  жен"
            ]
          },
          "metadata": {
            "tags": []
          },
          "execution_count": 6
        }
      ]
    }
  ]
}
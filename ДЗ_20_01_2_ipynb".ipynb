{
  "nbformat": 4,
  "nbformat_minor": 0,
  "metadata": {
    "colab": {
      "name": "ДЗ 20.01 - 2.ipynb\"",
      "provenance": [],
      "collapsed_sections": [],
      "include_colab_link": true
    },
    "kernelspec": {
      "display_name": "Python 3",
      "name": "python3"
    }
  },
  "cells": [
    {
      "cell_type": "markdown",
      "metadata": {
        "id": "view-in-github",
        "colab_type": "text"
      },
      "source": [
        "<a href=\"https://colab.research.google.com/github/deepluckyperson/sber_homework/blob/main/%D0%94%D0%97_20_01_2_ipynb%22.ipynb\" target=\"_parent\"><img src=\"https://colab.research.google.com/assets/colab-badge.svg\" alt=\"Open In Colab\"/></a>"
      ]
    },
    {
      "cell_type": "code",
      "metadata": {
        "id": "dS_X1TJEuyH4"
      },
      "source": [
        "#импорт необходимых библиотек\r\n",
        "import pandas as pd\r\n",
        "import numpy as np\r\n",
        "import matplotlib.pyplot as plt\r\n",
        "import seaborn as sns\r\n",
        "import sklearn\r\n",
        "import warnings\r\n",
        "warnings.filterwarnings(\"ignore\")\r\n",
        "\r\n",
        "#from google.colab import drive\r\n",
        "#drive.mount('/content/drive')"
      ],
      "execution_count": 24,
      "outputs": []
    },
    {
      "cell_type": "code",
      "metadata": {
        "id": "6OqcdJ1z6hfv"
      },
      "source": [
        "#подключение google drive\n",
        "#from google.colab import drive\n",
        "#drive.mount('/content/drive')"
      ],
      "execution_count": 25,
      "outputs": []
    },
    {
      "cell_type": "code",
      "metadata": {
        "colab": {
          "base_uri": "https://localhost:8080/",
          "height": 402
        },
        "id": "hP0LDu_oviOd",
        "outputId": "f9ba8576-adff-4be2-9175-c13f4c53c718"
      },
      "source": [
        "#чтение датасета\r\n",
        "url = 'https://github.com/deepluckyperson/sber_homework/blob/main/ThoraricSurgery.csv?raw=true'\r\n",
        "df = pd.read_csv(url)\r\n",
        "df"
      ],
      "execution_count": 26,
      "outputs": [
        {
          "output_type": "execute_result",
          "data": {
            "text/html": [
              "<div>\n",
              "<style scoped>\n",
              "    .dataframe tbody tr th:only-of-type {\n",
              "        vertical-align: middle;\n",
              "    }\n",
              "\n",
              "    .dataframe tbody tr th {\n",
              "        vertical-align: top;\n",
              "    }\n",
              "\n",
              "    .dataframe thead th {\n",
              "        text-align: right;\n",
              "    }\n",
              "</style>\n",
              "<table border=\"1\" class=\"dataframe\">\n",
              "  <thead>\n",
              "    <tr style=\"text-align: right;\">\n",
              "      <th></th>\n",
              "      <th>id</th>\n",
              "      <th>DGN</th>\n",
              "      <th>PRE4</th>\n",
              "      <th>PRE5</th>\n",
              "      <th>PRE6</th>\n",
              "      <th>PRE7</th>\n",
              "      <th>PRE8</th>\n",
              "      <th>PRE9</th>\n",
              "      <th>PRE10</th>\n",
              "      <th>PRE11</th>\n",
              "      <th>PRE14</th>\n",
              "      <th>PRE17</th>\n",
              "      <th>PRE19</th>\n",
              "      <th>PRE25</th>\n",
              "      <th>PRE30</th>\n",
              "      <th>PRE32</th>\n",
              "      <th>AGE</th>\n",
              "      <th>Risk1Yr</th>\n",
              "    </tr>\n",
              "  </thead>\n",
              "  <tbody>\n",
              "    <tr>\n",
              "      <th>0</th>\n",
              "      <td>1</td>\n",
              "      <td>DGN2</td>\n",
              "      <td>2.88</td>\n",
              "      <td>2.16</td>\n",
              "      <td>PRZ1</td>\n",
              "      <td>F</td>\n",
              "      <td>F</td>\n",
              "      <td>F</td>\n",
              "      <td>T</td>\n",
              "      <td>T</td>\n",
              "      <td>OC14</td>\n",
              "      <td>F</td>\n",
              "      <td>F</td>\n",
              "      <td>F</td>\n",
              "      <td>T</td>\n",
              "      <td>F</td>\n",
              "      <td>60</td>\n",
              "      <td>F</td>\n",
              "    </tr>\n",
              "    <tr>\n",
              "      <th>1</th>\n",
              "      <td>2</td>\n",
              "      <td>DGN3</td>\n",
              "      <td>3.40</td>\n",
              "      <td>1.88</td>\n",
              "      <td>PRZ0</td>\n",
              "      <td>F</td>\n",
              "      <td>F</td>\n",
              "      <td>F</td>\n",
              "      <td>F</td>\n",
              "      <td>F</td>\n",
              "      <td>OC12</td>\n",
              "      <td>F</td>\n",
              "      <td>F</td>\n",
              "      <td>F</td>\n",
              "      <td>T</td>\n",
              "      <td>F</td>\n",
              "      <td>51</td>\n",
              "      <td>F</td>\n",
              "    </tr>\n",
              "    <tr>\n",
              "      <th>2</th>\n",
              "      <td>3</td>\n",
              "      <td>DGN3</td>\n",
              "      <td>2.76</td>\n",
              "      <td>2.08</td>\n",
              "      <td>PRZ1</td>\n",
              "      <td>F</td>\n",
              "      <td>F</td>\n",
              "      <td>F</td>\n",
              "      <td>T</td>\n",
              "      <td>F</td>\n",
              "      <td>OC11</td>\n",
              "      <td>F</td>\n",
              "      <td>F</td>\n",
              "      <td>F</td>\n",
              "      <td>T</td>\n",
              "      <td>F</td>\n",
              "      <td>59</td>\n",
              "      <td>F</td>\n",
              "    </tr>\n",
              "    <tr>\n",
              "      <th>3</th>\n",
              "      <td>4</td>\n",
              "      <td>DGN3</td>\n",
              "      <td>3.68</td>\n",
              "      <td>3.04</td>\n",
              "      <td>PRZ0</td>\n",
              "      <td>F</td>\n",
              "      <td>F</td>\n",
              "      <td>F</td>\n",
              "      <td>F</td>\n",
              "      <td>F</td>\n",
              "      <td>OC11</td>\n",
              "      <td>F</td>\n",
              "      <td>F</td>\n",
              "      <td>F</td>\n",
              "      <td>F</td>\n",
              "      <td>F</td>\n",
              "      <td>54</td>\n",
              "      <td>F</td>\n",
              "    </tr>\n",
              "    <tr>\n",
              "      <th>4</th>\n",
              "      <td>5</td>\n",
              "      <td>DGN3</td>\n",
              "      <td>2.44</td>\n",
              "      <td>0.96</td>\n",
              "      <td>PRZ2</td>\n",
              "      <td>F</td>\n",
              "      <td>T</td>\n",
              "      <td>F</td>\n",
              "      <td>T</td>\n",
              "      <td>T</td>\n",
              "      <td>OC11</td>\n",
              "      <td>F</td>\n",
              "      <td>F</td>\n",
              "      <td>F</td>\n",
              "      <td>T</td>\n",
              "      <td>F</td>\n",
              "      <td>73</td>\n",
              "      <td>T</td>\n",
              "    </tr>\n",
              "    <tr>\n",
              "      <th>...</th>\n",
              "      <td>...</td>\n",
              "      <td>...</td>\n",
              "      <td>...</td>\n",
              "      <td>...</td>\n",
              "      <td>...</td>\n",
              "      <td>...</td>\n",
              "      <td>...</td>\n",
              "      <td>...</td>\n",
              "      <td>...</td>\n",
              "      <td>...</td>\n",
              "      <td>...</td>\n",
              "      <td>...</td>\n",
              "      <td>...</td>\n",
              "      <td>...</td>\n",
              "      <td>...</td>\n",
              "      <td>...</td>\n",
              "      <td>...</td>\n",
              "      <td>...</td>\n",
              "    </tr>\n",
              "    <tr>\n",
              "      <th>465</th>\n",
              "      <td>466</td>\n",
              "      <td>DGN2</td>\n",
              "      <td>3.88</td>\n",
              "      <td>2.12</td>\n",
              "      <td>PRZ1</td>\n",
              "      <td>F</td>\n",
              "      <td>F</td>\n",
              "      <td>F</td>\n",
              "      <td>T</td>\n",
              "      <td>F</td>\n",
              "      <td>OC13</td>\n",
              "      <td>F</td>\n",
              "      <td>F</td>\n",
              "      <td>F</td>\n",
              "      <td>T</td>\n",
              "      <td>F</td>\n",
              "      <td>63</td>\n",
              "      <td>F</td>\n",
              "    </tr>\n",
              "    <tr>\n",
              "      <th>466</th>\n",
              "      <td>467</td>\n",
              "      <td>DGN3</td>\n",
              "      <td>3.76</td>\n",
              "      <td>3.12</td>\n",
              "      <td>PRZ0</td>\n",
              "      <td>F</td>\n",
              "      <td>F</td>\n",
              "      <td>F</td>\n",
              "      <td>F</td>\n",
              "      <td>F</td>\n",
              "      <td>OC11</td>\n",
              "      <td>F</td>\n",
              "      <td>F</td>\n",
              "      <td>F</td>\n",
              "      <td>T</td>\n",
              "      <td>F</td>\n",
              "      <td>61</td>\n",
              "      <td>F</td>\n",
              "    </tr>\n",
              "    <tr>\n",
              "      <th>467</th>\n",
              "      <td>468</td>\n",
              "      <td>DGN3</td>\n",
              "      <td>3.04</td>\n",
              "      <td>2.08</td>\n",
              "      <td>PRZ1</td>\n",
              "      <td>F</td>\n",
              "      <td>F</td>\n",
              "      <td>F</td>\n",
              "      <td>T</td>\n",
              "      <td>F</td>\n",
              "      <td>OC13</td>\n",
              "      <td>F</td>\n",
              "      <td>F</td>\n",
              "      <td>F</td>\n",
              "      <td>F</td>\n",
              "      <td>F</td>\n",
              "      <td>52</td>\n",
              "      <td>F</td>\n",
              "    </tr>\n",
              "    <tr>\n",
              "      <th>468</th>\n",
              "      <td>469</td>\n",
              "      <td>DGN3</td>\n",
              "      <td>1.96</td>\n",
              "      <td>1.68</td>\n",
              "      <td>PRZ1</td>\n",
              "      <td>F</td>\n",
              "      <td>F</td>\n",
              "      <td>F</td>\n",
              "      <td>T</td>\n",
              "      <td>T</td>\n",
              "      <td>OC12</td>\n",
              "      <td>F</td>\n",
              "      <td>F</td>\n",
              "      <td>F</td>\n",
              "      <td>T</td>\n",
              "      <td>F</td>\n",
              "      <td>79</td>\n",
              "      <td>F</td>\n",
              "    </tr>\n",
              "    <tr>\n",
              "      <th>469</th>\n",
              "      <td>470</td>\n",
              "      <td>DGN3</td>\n",
              "      <td>4.72</td>\n",
              "      <td>3.56</td>\n",
              "      <td>PRZ0</td>\n",
              "      <td>F</td>\n",
              "      <td>F</td>\n",
              "      <td>F</td>\n",
              "      <td>F</td>\n",
              "      <td>F</td>\n",
              "      <td>OC12</td>\n",
              "      <td>F</td>\n",
              "      <td>F</td>\n",
              "      <td>F</td>\n",
              "      <td>T</td>\n",
              "      <td>F</td>\n",
              "      <td>51</td>\n",
              "      <td>F</td>\n",
              "    </tr>\n",
              "  </tbody>\n",
              "</table>\n",
              "<p>470 rows × 18 columns</p>\n",
              "</div>"
            ],
            "text/plain": [
              "      id   DGN  PRE4  PRE5  PRE6 PRE7  ... PRE19 PRE25 PRE30 PRE32 AGE Risk1Yr\n",
              "0      1  DGN2  2.88  2.16  PRZ1    F  ...     F     F     T     F  60       F\n",
              "1      2  DGN3  3.40  1.88  PRZ0    F  ...     F     F     T     F  51       F\n",
              "2      3  DGN3  2.76  2.08  PRZ1    F  ...     F     F     T     F  59       F\n",
              "3      4  DGN3  3.68  3.04  PRZ0    F  ...     F     F     F     F  54       F\n",
              "4      5  DGN3  2.44  0.96  PRZ2    F  ...     F     F     T     F  73       T\n",
              "..   ...   ...   ...   ...   ...  ...  ...   ...   ...   ...   ...  ..     ...\n",
              "465  466  DGN2  3.88  2.12  PRZ1    F  ...     F     F     T     F  63       F\n",
              "466  467  DGN3  3.76  3.12  PRZ0    F  ...     F     F     T     F  61       F\n",
              "467  468  DGN3  3.04  2.08  PRZ1    F  ...     F     F     F     F  52       F\n",
              "468  469  DGN3  1.96  1.68  PRZ1    F  ...     F     F     T     F  79       F\n",
              "469  470  DGN3  4.72  3.56  PRZ0    F  ...     F     F     T     F  51       F\n",
              "\n",
              "[470 rows x 18 columns]"
            ]
          },
          "metadata": {
            "tags": []
          },
          "execution_count": 26
        }
      ]
    },
    {
      "cell_type": "code",
      "metadata": {
        "colab": {
          "base_uri": "https://localhost:8080/"
        },
        "id": "qfPLj45zy_Ii",
        "outputId": "10f4abf0-9b61-47c6-b192-3f1a37a26ff1"
      },
      "source": [
        "#Проверка на null\r\n",
        "df.info()"
      ],
      "execution_count": 27,
      "outputs": [
        {
          "output_type": "stream",
          "text": [
            "<class 'pandas.core.frame.DataFrame'>\n",
            "RangeIndex: 470 entries, 0 to 469\n",
            "Data columns (total 18 columns):\n",
            " #   Column   Non-Null Count  Dtype  \n",
            "---  ------   --------------  -----  \n",
            " 0   id       470 non-null    int64  \n",
            " 1   DGN      470 non-null    object \n",
            " 2   PRE4     470 non-null    float64\n",
            " 3   PRE5     470 non-null    float64\n",
            " 4   PRE6     470 non-null    object \n",
            " 5   PRE7     470 non-null    object \n",
            " 6   PRE8     470 non-null    object \n",
            " 7   PRE9     470 non-null    object \n",
            " 8   PRE10    470 non-null    object \n",
            " 9   PRE11    470 non-null    object \n",
            " 10  PRE14    470 non-null    object \n",
            " 11  PRE17    470 non-null    object \n",
            " 12  PRE19    470 non-null    object \n",
            " 13  PRE25    470 non-null    object \n",
            " 14  PRE30    470 non-null    object \n",
            " 15  PRE32    470 non-null    object \n",
            " 16  AGE      470 non-null    int64  \n",
            " 17  Risk1Yr  470 non-null    object \n",
            "dtypes: float64(2), int64(2), object(14)\n",
            "memory usage: 66.2+ KB\n"
          ],
          "name": "stdout"
        }
      ]
    },
    {
      "cell_type": "code",
      "metadata": {
        "colab": {
          "base_uri": "https://localhost:8080/",
          "height": 402
        },
        "id": "yNQiDyFnxAig",
        "outputId": "46bcf6c4-01ae-403a-dd67-763a71a6aefd"
      },
      "source": [
        "#дропаем ненужные колонки\r\n",
        "df = df.drop(['id'], axis = 1)\r\n",
        "df"
      ],
      "execution_count": 28,
      "outputs": [
        {
          "output_type": "execute_result",
          "data": {
            "text/html": [
              "<div>\n",
              "<style scoped>\n",
              "    .dataframe tbody tr th:only-of-type {\n",
              "        vertical-align: middle;\n",
              "    }\n",
              "\n",
              "    .dataframe tbody tr th {\n",
              "        vertical-align: top;\n",
              "    }\n",
              "\n",
              "    .dataframe thead th {\n",
              "        text-align: right;\n",
              "    }\n",
              "</style>\n",
              "<table border=\"1\" class=\"dataframe\">\n",
              "  <thead>\n",
              "    <tr style=\"text-align: right;\">\n",
              "      <th></th>\n",
              "      <th>DGN</th>\n",
              "      <th>PRE4</th>\n",
              "      <th>PRE5</th>\n",
              "      <th>PRE6</th>\n",
              "      <th>PRE7</th>\n",
              "      <th>PRE8</th>\n",
              "      <th>PRE9</th>\n",
              "      <th>PRE10</th>\n",
              "      <th>PRE11</th>\n",
              "      <th>PRE14</th>\n",
              "      <th>PRE17</th>\n",
              "      <th>PRE19</th>\n",
              "      <th>PRE25</th>\n",
              "      <th>PRE30</th>\n",
              "      <th>PRE32</th>\n",
              "      <th>AGE</th>\n",
              "      <th>Risk1Yr</th>\n",
              "    </tr>\n",
              "  </thead>\n",
              "  <tbody>\n",
              "    <tr>\n",
              "      <th>0</th>\n",
              "      <td>DGN2</td>\n",
              "      <td>2.88</td>\n",
              "      <td>2.16</td>\n",
              "      <td>PRZ1</td>\n",
              "      <td>F</td>\n",
              "      <td>F</td>\n",
              "      <td>F</td>\n",
              "      <td>T</td>\n",
              "      <td>T</td>\n",
              "      <td>OC14</td>\n",
              "      <td>F</td>\n",
              "      <td>F</td>\n",
              "      <td>F</td>\n",
              "      <td>T</td>\n",
              "      <td>F</td>\n",
              "      <td>60</td>\n",
              "      <td>F</td>\n",
              "    </tr>\n",
              "    <tr>\n",
              "      <th>1</th>\n",
              "      <td>DGN3</td>\n",
              "      <td>3.40</td>\n",
              "      <td>1.88</td>\n",
              "      <td>PRZ0</td>\n",
              "      <td>F</td>\n",
              "      <td>F</td>\n",
              "      <td>F</td>\n",
              "      <td>F</td>\n",
              "      <td>F</td>\n",
              "      <td>OC12</td>\n",
              "      <td>F</td>\n",
              "      <td>F</td>\n",
              "      <td>F</td>\n",
              "      <td>T</td>\n",
              "      <td>F</td>\n",
              "      <td>51</td>\n",
              "      <td>F</td>\n",
              "    </tr>\n",
              "    <tr>\n",
              "      <th>2</th>\n",
              "      <td>DGN3</td>\n",
              "      <td>2.76</td>\n",
              "      <td>2.08</td>\n",
              "      <td>PRZ1</td>\n",
              "      <td>F</td>\n",
              "      <td>F</td>\n",
              "      <td>F</td>\n",
              "      <td>T</td>\n",
              "      <td>F</td>\n",
              "      <td>OC11</td>\n",
              "      <td>F</td>\n",
              "      <td>F</td>\n",
              "      <td>F</td>\n",
              "      <td>T</td>\n",
              "      <td>F</td>\n",
              "      <td>59</td>\n",
              "      <td>F</td>\n",
              "    </tr>\n",
              "    <tr>\n",
              "      <th>3</th>\n",
              "      <td>DGN3</td>\n",
              "      <td>3.68</td>\n",
              "      <td>3.04</td>\n",
              "      <td>PRZ0</td>\n",
              "      <td>F</td>\n",
              "      <td>F</td>\n",
              "      <td>F</td>\n",
              "      <td>F</td>\n",
              "      <td>F</td>\n",
              "      <td>OC11</td>\n",
              "      <td>F</td>\n",
              "      <td>F</td>\n",
              "      <td>F</td>\n",
              "      <td>F</td>\n",
              "      <td>F</td>\n",
              "      <td>54</td>\n",
              "      <td>F</td>\n",
              "    </tr>\n",
              "    <tr>\n",
              "      <th>4</th>\n",
              "      <td>DGN3</td>\n",
              "      <td>2.44</td>\n",
              "      <td>0.96</td>\n",
              "      <td>PRZ2</td>\n",
              "      <td>F</td>\n",
              "      <td>T</td>\n",
              "      <td>F</td>\n",
              "      <td>T</td>\n",
              "      <td>T</td>\n",
              "      <td>OC11</td>\n",
              "      <td>F</td>\n",
              "      <td>F</td>\n",
              "      <td>F</td>\n",
              "      <td>T</td>\n",
              "      <td>F</td>\n",
              "      <td>73</td>\n",
              "      <td>T</td>\n",
              "    </tr>\n",
              "    <tr>\n",
              "      <th>...</th>\n",
              "      <td>...</td>\n",
              "      <td>...</td>\n",
              "      <td>...</td>\n",
              "      <td>...</td>\n",
              "      <td>...</td>\n",
              "      <td>...</td>\n",
              "      <td>...</td>\n",
              "      <td>...</td>\n",
              "      <td>...</td>\n",
              "      <td>...</td>\n",
              "      <td>...</td>\n",
              "      <td>...</td>\n",
              "      <td>...</td>\n",
              "      <td>...</td>\n",
              "      <td>...</td>\n",
              "      <td>...</td>\n",
              "      <td>...</td>\n",
              "    </tr>\n",
              "    <tr>\n",
              "      <th>465</th>\n",
              "      <td>DGN2</td>\n",
              "      <td>3.88</td>\n",
              "      <td>2.12</td>\n",
              "      <td>PRZ1</td>\n",
              "      <td>F</td>\n",
              "      <td>F</td>\n",
              "      <td>F</td>\n",
              "      <td>T</td>\n",
              "      <td>F</td>\n",
              "      <td>OC13</td>\n",
              "      <td>F</td>\n",
              "      <td>F</td>\n",
              "      <td>F</td>\n",
              "      <td>T</td>\n",
              "      <td>F</td>\n",
              "      <td>63</td>\n",
              "      <td>F</td>\n",
              "    </tr>\n",
              "    <tr>\n",
              "      <th>466</th>\n",
              "      <td>DGN3</td>\n",
              "      <td>3.76</td>\n",
              "      <td>3.12</td>\n",
              "      <td>PRZ0</td>\n",
              "      <td>F</td>\n",
              "      <td>F</td>\n",
              "      <td>F</td>\n",
              "      <td>F</td>\n",
              "      <td>F</td>\n",
              "      <td>OC11</td>\n",
              "      <td>F</td>\n",
              "      <td>F</td>\n",
              "      <td>F</td>\n",
              "      <td>T</td>\n",
              "      <td>F</td>\n",
              "      <td>61</td>\n",
              "      <td>F</td>\n",
              "    </tr>\n",
              "    <tr>\n",
              "      <th>467</th>\n",
              "      <td>DGN3</td>\n",
              "      <td>3.04</td>\n",
              "      <td>2.08</td>\n",
              "      <td>PRZ1</td>\n",
              "      <td>F</td>\n",
              "      <td>F</td>\n",
              "      <td>F</td>\n",
              "      <td>T</td>\n",
              "      <td>F</td>\n",
              "      <td>OC13</td>\n",
              "      <td>F</td>\n",
              "      <td>F</td>\n",
              "      <td>F</td>\n",
              "      <td>F</td>\n",
              "      <td>F</td>\n",
              "      <td>52</td>\n",
              "      <td>F</td>\n",
              "    </tr>\n",
              "    <tr>\n",
              "      <th>468</th>\n",
              "      <td>DGN3</td>\n",
              "      <td>1.96</td>\n",
              "      <td>1.68</td>\n",
              "      <td>PRZ1</td>\n",
              "      <td>F</td>\n",
              "      <td>F</td>\n",
              "      <td>F</td>\n",
              "      <td>T</td>\n",
              "      <td>T</td>\n",
              "      <td>OC12</td>\n",
              "      <td>F</td>\n",
              "      <td>F</td>\n",
              "      <td>F</td>\n",
              "      <td>T</td>\n",
              "      <td>F</td>\n",
              "      <td>79</td>\n",
              "      <td>F</td>\n",
              "    </tr>\n",
              "    <tr>\n",
              "      <th>469</th>\n",
              "      <td>DGN3</td>\n",
              "      <td>4.72</td>\n",
              "      <td>3.56</td>\n",
              "      <td>PRZ0</td>\n",
              "      <td>F</td>\n",
              "      <td>F</td>\n",
              "      <td>F</td>\n",
              "      <td>F</td>\n",
              "      <td>F</td>\n",
              "      <td>OC12</td>\n",
              "      <td>F</td>\n",
              "      <td>F</td>\n",
              "      <td>F</td>\n",
              "      <td>T</td>\n",
              "      <td>F</td>\n",
              "      <td>51</td>\n",
              "      <td>F</td>\n",
              "    </tr>\n",
              "  </tbody>\n",
              "</table>\n",
              "<p>470 rows × 17 columns</p>\n",
              "</div>"
            ],
            "text/plain": [
              "      DGN  PRE4  PRE5  PRE6 PRE7 PRE8  ... PRE19 PRE25 PRE30 PRE32 AGE Risk1Yr\n",
              "0    DGN2  2.88  2.16  PRZ1    F    F  ...     F     F     T     F  60       F\n",
              "1    DGN3  3.40  1.88  PRZ0    F    F  ...     F     F     T     F  51       F\n",
              "2    DGN3  2.76  2.08  PRZ1    F    F  ...     F     F     T     F  59       F\n",
              "3    DGN3  3.68  3.04  PRZ0    F    F  ...     F     F     F     F  54       F\n",
              "4    DGN3  2.44  0.96  PRZ2    F    T  ...     F     F     T     F  73       T\n",
              "..    ...   ...   ...   ...  ...  ...  ...   ...   ...   ...   ...  ..     ...\n",
              "465  DGN2  3.88  2.12  PRZ1    F    F  ...     F     F     T     F  63       F\n",
              "466  DGN3  3.76  3.12  PRZ0    F    F  ...     F     F     T     F  61       F\n",
              "467  DGN3  3.04  2.08  PRZ1    F    F  ...     F     F     F     F  52       F\n",
              "468  DGN3  1.96  1.68  PRZ1    F    F  ...     F     F     T     F  79       F\n",
              "469  DGN3  4.72  3.56  PRZ0    F    F  ...     F     F     T     F  51       F\n",
              "\n",
              "[470 rows x 17 columns]"
            ]
          },
          "metadata": {
            "tags": []
          },
          "execution_count": 28
        }
      ]
    },
    {
      "cell_type": "code",
      "metadata": {
        "colab": {
          "base_uri": "https://localhost:8080/",
          "height": 415
        },
        "id": "W-zi8q-ly9lM",
        "outputId": "cebb7916-0ab0-44d3-848d-ee795ad22bee"
      },
      "source": [
        "#отрисовываем график распределения целевого признака\r\n",
        "print(df.DGN.value_counts())\r\n",
        "plt.title('Classes of DNG:')\r\n",
        "sns.barplot(x=df.DGN.unique(),y=df.DGN.value_counts());"
      ],
      "execution_count": 29,
      "outputs": [
        {
          "output_type": "stream",
          "text": [
            "DGN3    349\n",
            "DGN2     52\n",
            "DGN4     47\n",
            "DGN5     15\n",
            "DGN6      4\n",
            "DGN8      2\n",
            "DGN1      1\n",
            "Name: DGN, dtype: int64\n"
          ],
          "name": "stdout"
        },
        {
          "output_type": "display_data",
          "data": {
            "image/png": "[encoded data removed]",
            "text/plain": [
              "<Figure size 432x288 with 1 Axes>"
            ]
          },
          "metadata": {
            "tags": [],
            "needs_background": "light"
          }
        }
      ]
    },
    {
      "cell_type": "code",
      "metadata": {
        "id": "ukE2GCioOGCM"
      },
      "source": [
        "#пишем функцию кодировки объектных признаков\r\n",
        "from sklearn.preprocessing import LabelEncoder\r\n",
        "enc = LabelEncoder()\r\n",
        "\r\n",
        "def encoding(data):\r\n",
        "  df_enc = data\r\n",
        "  for i in df_enc.columns:\r\n",
        "    if df_enc.dtypes[i] == np.object:\r\n",
        "      df_enc[i] = enc.fit_transform(df_enc[i])\r\n",
        "  return df_enc"
      ],
      "execution_count": 30,
      "outputs": []
    },
    {
      "cell_type": "code",
      "metadata": {
        "colab": {
          "base_uri": "https://localhost:8080/",
          "height": 402
        },
        "id": "T1NRrrQrQl8o",
        "outputId": "92be82cc-bea3-4f28-e82f-95fb50313991"
      },
      "source": [
        "#кодировка\r\n",
        "encoding(df) \r\n",
        "df"
      ],
      "execution_count": 31,
      "outputs": [
        {
          "output_type": "execute_result",
          "data": {
            "text/html": [
              "<div>\n",
              "<style scoped>\n",
              "    .dataframe tbody tr th:only-of-type {\n",
              "        vertical-align: middle;\n",
              "    }\n",
              "\n",
              "    .dataframe tbody tr th {\n",
              "        vertical-align: top;\n",
              "    }\n",
              "\n",
              "    .dataframe thead th {\n",
              "        text-align: right;\n",
              "    }\n",
              "</style>\n",
              "<table border=\"1\" class=\"dataframe\">\n",
              "  <thead>\n",
              "    <tr style=\"text-align: right;\">\n",
              "      <th></th>\n",
              "      <th>DGN</th>\n",
              "      <th>PRE4</th>\n",
              "      <th>PRE5</th>\n",
              "      <th>PRE6</th>\n",
              "      <th>PRE7</th>\n",
              "      <th>PRE8</th>\n",
              "      <th>PRE9</th>\n",
              "      <th>PRE10</th>\n",
              "      <th>PRE11</th>\n",
              "      <th>PRE14</th>\n",
              "      <th>PRE17</th>\n",
              "      <th>PRE19</th>\n",
              "      <th>PRE25</th>\n",
              "      <th>PRE30</th>\n",
              "      <th>PRE32</th>\n",
              "      <th>AGE</th>\n",
              "      <th>Risk1Yr</th>\n",
              "    </tr>\n",
              "  </thead>\n",
              "  <tbody>\n",
              "    <tr>\n",
              "      <th>0</th>\n",
              "      <td>1</td>\n",
              "      <td>2.88</td>\n",
              "      <td>2.16</td>\n",
              "      <td>1</td>\n",
              "      <td>0</td>\n",
              "      <td>0</td>\n",
              "      <td>0</td>\n",
              "      <td>1</td>\n",
              "      <td>1</td>\n",
              "      <td>3</td>\n",
              "      <td>0</td>\n",
              "      <td>0</td>\n",
              "      <td>0</td>\n",
              "      <td>1</td>\n",
              "      <td>0</td>\n",
              "      <td>60</td>\n",
              "      <td>0</td>\n",
              "    </tr>\n",
              "    <tr>\n",
              "      <th>1</th>\n",
              "      <td>2</td>\n",
              "      <td>3.40</td>\n",
              "      <td>1.88</td>\n",
              "      <td>0</td>\n",
              "      <td>0</td>\n",
              "      <td>0</td>\n",
              "      <td>0</td>\n",
              "      <td>0</td>\n",
              "      <td>0</td>\n",
              "      <td>1</td>\n",
              "      <td>0</td>\n",
              "      <td>0</td>\n",
              "      <td>0</td>\n",
              "      <td>1</td>\n",
              "      <td>0</td>\n",
              "      <td>51</td>\n",
              "      <td>0</td>\n",
              "    </tr>\n",
              "    <tr>\n",
              "      <th>2</th>\n",
              "      <td>2</td>\n",
              "      <td>2.76</td>\n",
              "      <td>2.08</td>\n",
              "      <td>1</td>\n",
              "      <td>0</td>\n",
              "      <td>0</td>\n",
              "      <td>0</td>\n",
              "      <td>1</td>\n",
              "      <td>0</td>\n",
              "      <td>0</td>\n",
              "      <td>0</td>\n",
              "      <td>0</td>\n",
              "      <td>0</td>\n",
              "      <td>1</td>\n",
              "      <td>0</td>\n",
              "      <td>59</td>\n",
              "      <td>0</td>\n",
              "    </tr>\n",
              "    <tr>\n",
              "      <th>3</th>\n",
              "      <td>2</td>\n",
              "      <td>3.68</td>\n",
              "      <td>3.04</td>\n",
              "      <td>0</td>\n",
              "      <td>0</td>\n",
              "      <td>0</td>\n",
              "      <td>0</td>\n",
              "      <td>0</td>\n",
              "      <td>0</td>\n",
              "      <td>0</td>\n",
              "      <td>0</td>\n",
              "      <td>0</td>\n",
              "      <td>0</td>\n",
              "      <td>0</td>\n",
              "      <td>0</td>\n",
              "      <td>54</td>\n",
              "      <td>0</td>\n",
              "    </tr>\n",
              "    <tr>\n",
              "      <th>4</th>\n",
              "      <td>2</td>\n",
              "      <td>2.44</td>\n",
              "      <td>0.96</td>\n",
              "      <td>2</td>\n",
              "      <td>0</td>\n",
              "      <td>1</td>\n",
              "      <td>0</td>\n",
              "      <td>1</td>\n",
              "      <td>1</td>\n",
              "      <td>0</td>\n",
              "      <td>0</td>\n",
              "      <td>0</td>\n",
              "      <td>0</td>\n",
              "      <td>1</td>\n",
              "      <td>0</td>\n",
              "      <td>73</td>\n",
              "      <td>1</td>\n",
              "    </tr>\n",
              "    <tr>\n",
              "      <th>...</th>\n",
              "      <td>...</td>\n",
              "      <td>...</td>\n",
              "      <td>...</td>\n",
              "      <td>...</td>\n",
              "      <td>...</td>\n",
              "      <td>...</td>\n",
              "      <td>...</td>\n",
              "      <td>...</td>\n",
              "      <td>...</td>\n",
              "      <td>...</td>\n",
              "      <td>...</td>\n",
              "      <td>...</td>\n",
              "      <td>...</td>\n",
              "      <td>...</td>\n",
              "      <td>...</td>\n",
              "      <td>...</td>\n",
              "      <td>...</td>\n",
              "    </tr>\n",
              "    <tr>\n",
              "      <th>465</th>\n",
              "      <td>1</td>\n",
              "      <td>3.88</td>\n",
              "      <td>2.12</td>\n",
              "      <td>1</td>\n",
              "      <td>0</td>\n",
              "      <td>0</td>\n",
              "      <td>0</td>\n",
              "      <td>1</td>\n",
              "      <td>0</td>\n",
              "      <td>2</td>\n",
              "      <td>0</td>\n",
              "      <td>0</td>\n",
              "      <td>0</td>\n",
              "      <td>1</td>\n",
              "      <td>0</td>\n",
              "      <td>63</td>\n",
              "      <td>0</td>\n",
              "    </tr>\n",
              "    <tr>\n",
              "      <th>466</th>\n",
              "      <td>2</td>\n",
              "      <td>3.76</td>\n",
              "      <td>3.12</td>\n",
              "      <td>0</td>\n",
              "      <td>0</td>\n",
              "      <td>0</td>\n",
              "      <td>0</td>\n",
              "      <td>0</td>\n",
              "      <td>0</td>\n",
              "      <td>0</td>\n",
              "      <td>0</td>\n",
              "      <td>0</td>\n",
              "      <td>0</td>\n",
              "      <td>1</td>\n",
              "      <td>0</td>\n",
              "      <td>61</td>\n",
              "      <td>0</td>\n",
              "    </tr>\n",
              "    <tr>\n",
              "      <th>467</th>\n",
              "      <td>2</td>\n",
              "      <td>3.04</td>\n",
              "      <td>2.08</td>\n",
              "      <td>1</td>\n",
              "      <td>0</td>\n",
              "      <td>0</td>\n",
              "      <td>0</td>\n",
              "      <td>1</td>\n",
              "      <td>0</td>\n",
              "      <td>2</td>\n",
              "      <td>0</td>\n",
              "      <td>0</td>\n",
              "      <td>0</td>\n",
              "      <td>0</td>\n",
              "      <td>0</td>\n",
              "      <td>52</td>\n",
              "      <td>0</td>\n",
              "    </tr>\n",
              "    <tr>\n",
              "      <th>468</th>\n",
              "      <td>2</td>\n",
              "      <td>1.96</td>\n",
              "      <td>1.68</td>\n",
              "      <td>1</td>\n",
              "      <td>0</td>\n",
              "      <td>0</td>\n",
              "      <td>0</td>\n",
              "      <td>1</td>\n",
              "      <td>1</td>\n",
              "      <td>1</td>\n",
              "      <td>0</td>\n",
              "      <td>0</td>\n",
              "      <td>0</td>\n",
              "      <td>1</td>\n",
              "      <td>0</td>\n",
              "      <td>79</td>\n",
              "      <td>0</td>\n",
              "    </tr>\n",
              "    <tr>\n",
              "      <th>469</th>\n",
              "      <td>2</td>\n",
              "      <td>4.72</td>\n",
              "      <td>3.56</td>\n",
              "      <td>0</td>\n",
              "      <td>0</td>\n",
              "      <td>0</td>\n",
              "      <td>0</td>\n",
              "      <td>0</td>\n",
              "      <td>0</td>\n",
              "      <td>1</td>\n",
              "      <td>0</td>\n",
              "      <td>0</td>\n",
              "      <td>0</td>\n",
              "      <td>1</td>\n",
              "      <td>0</td>\n",
              "      <td>51</td>\n",
              "      <td>0</td>\n",
              "    </tr>\n",
              "  </tbody>\n",
              "</table>\n",
              "<p>470 rows × 17 columns</p>\n",
              "</div>"
            ],
            "text/plain": [
              "     DGN  PRE4  PRE5  PRE6  PRE7  ...  PRE25  PRE30  PRE32  AGE  Risk1Yr\n",
              "0      1  2.88  2.16     1     0  ...      0      1      0   60        0\n",
              "1      2  3.40  1.88     0     0  ...      0      1      0   51        0\n",
              "2      2  2.76  2.08     1     0  ...      0      1      0   59        0\n",
              "3      2  3.68  3.04     0     0  ...      0      0      0   54        0\n",
              "4      2  2.44  0.96     2     0  ...      0      1      0   73        1\n",
              "..   ...   ...   ...   ...   ...  ...    ...    ...    ...  ...      ...\n",
              "465    1  3.88  2.12     1     0  ...      0      1      0   63        0\n",
              "466    2  3.76  3.12     0     0  ...      0      1      0   61        0\n",
              "467    2  3.04  2.08     1     0  ...      0      0      0   52        0\n",
              "468    2  1.96  1.68     1     0  ...      0      1      0   79        0\n",
              "469    2  4.72  3.56     0     0  ...      0      1      0   51        0\n",
              "\n",
              "[470 rows x 17 columns]"
            ]
          },
          "metadata": {
            "tags": []
          },
          "execution_count": 31
        }
      ]
    },
    {
      "cell_type": "code",
      "metadata": {
        "colab": {
          "base_uri": "https://localhost:8080/",
          "height": 716
        },
        "id": "NTxTIqdhXClI",
        "outputId": "8e8fd559-cf82-48a4-f374-dc575eb7149a"
      },
      "source": [
        "#график распределения признаков\r\n",
        "df.hist(figsize=(10,12));"
      ],
      "execution_count": 32,
      "outputs": [
        {
          "output_type": "display_data",
          "data": {
            "image/png": "[encoded data removed]",
            "text/plain": [
              "<Figure size 720x864 with 20 Axes>"
            ]
          },
          "metadata": {
            "tags": [],
            "needs_background": "light"
          }
        }
      ]
    },
    {
      "cell_type": "code",
      "metadata": {
        "colab": {
          "base_uri": "https://localhost:8080/",
          "height": 578
        },
        "id": "AQPOlbiVRJdM",
        "outputId": "833d1728-a066-4f84-e194-ed9ca1cc7e9a"
      },
      "source": [
        "#проверка на наличие шума\r\n",
        "plt.subplots(figsize = (10,10))\r\n",
        "sns.heatmap(df.corr(), square=True)\r\n",
        "plt.show()"
      ],
      "execution_count": 33,
      "outputs": [
        {
          "output_type": "display_data",
          "data": {
            "image/png": "[encoded data removed]",
            "text/plain": [
              "<Figure size 720x720 with 2 Axes>"
            ]
          },
          "metadata": {
            "tags": [],
            "needs_background": "light"
          }
        }
      ]
    },
    {
      "cell_type": "code",
      "metadata": {
        "id": "f1ZgqR79RzZO"
      },
      "source": [
        "#разбиваем датасет на матрицу признаков и целевую переменную\r\n",
        "X = df.drop(['DGN'], axis=1)\r\n",
        "y = df['DGN']"
      ],
      "execution_count": 34,
      "outputs": []
    },
    {
      "cell_type": "code",
      "metadata": {
        "id": "UPySTgozR7jy"
      },
      "source": [
        "#создаем функцию на добавление признаков\r\n",
        "from sklearn.preprocessing import PolynomialFeatures\r\n",
        "\r\n",
        "def poly(a):\r\n",
        "  b = PolynomialFeatures(2).fit_transform(a)\r\n",
        "  return b  "
      ],
      "execution_count": 35,
      "outputs": []
    },
    {
      "cell_type": "code",
      "metadata": {
        "colab": {
          "base_uri": "https://localhost:8080/"
        },
        "id": "D2m1H503TqLg",
        "outputId": "b132db15-912d-4352-f135-18696f05b99c"
      },
      "source": [
        "#добавляем полиномиальные признаки\r\n",
        "X_poly = poly(X)\r\n",
        "X_poly"
      ],
      "execution_count": 36,
      "outputs": [
        {
          "output_type": "execute_result",
          "data": {
            "text/plain": [
              "array([[1.000e+00, 2.880e+00, 2.160e+00, ..., 3.600e+03, 0.000e+00,\n",
              "        0.000e+00],\n",
              "       [1.000e+00, 3.400e+00, 1.880e+00, ..., 2.601e+03, 0.000e+00,\n",
              "        0.000e+00],\n",
              "       [1.000e+00, 2.760e+00, 2.080e+00, ..., 3.481e+03, 0.000e+00,\n",
              "        0.000e+00],\n",
              "       ...,\n",
              "       [1.000e+00, 3.040e+00, 2.080e+00, ..., 2.704e+03, 0.000e+00,\n",
              "        0.000e+00],\n",
              "       [1.000e+00, 1.960e+00, 1.680e+00, ..., 6.241e+03, 0.000e+00,\n",
              "        0.000e+00],\n",
              "       [1.000e+00, 4.720e+00, 3.560e+00, ..., 2.601e+03, 0.000e+00,\n",
              "        0.000e+00]])"
            ]
          },
          "metadata": {
            "tags": []
          },
          "execution_count": 36
        }
      ]
    },
    {
      "cell_type": "code",
      "metadata": {
        "id": "qHEDDtMfXdM9"
      },
      "source": [
        "#создаем функцию для аугментации данных\r\n",
        "from imblearn.over_sampling import RandomOverSampler\r\n",
        "def ROS(a, b):\r\n",
        "  n = df.DGN.unique()\r\n",
        "  for i in n:\r\n",
        "    a, b = RandomOverSampler(sampling_strategy='minority').fit_resample(np.array(a), np.array(b))\r\n",
        "  return a, b"
      ],
      "execution_count": 37,
      "outputs": []
    },
    {
      "cell_type": "code",
      "metadata": {
        "id": "_Kw8SuwiYFMa"
      },
      "source": [
        "#делаем аугментацию\r\n",
        "X_poly_OV, y_OV = ROS(X_poly, y)"
      ],
      "execution_count": 38,
      "outputs": []
    },
    {
      "cell_type": "code",
      "metadata": {
        "colab": {
          "base_uri": "https://localhost:8080/"
        },
        "id": "ASePYI5-aJ4c",
        "outputId": "2df13c75-c979-43e7-ead0-151ed2a93374"
      },
      "source": [
        "X_poly_OV.shape, y_OV.shape"
      ],
      "execution_count": 39,
      "outputs": [
        {
          "output_type": "execute_result",
          "data": {
            "text/plain": [
              "((2443, 153), (2443,))"
            ]
          },
          "metadata": {
            "tags": []
          },
          "execution_count": 39
        }
      ]
    },
    {
      "cell_type": "code",
      "metadata": {
        "colab": {
          "base_uri": "https://localhost:8080/"
        },
        "id": "RIyqCbbuaXo8",
        "outputId": "5d38953f-02e4-430e-e8f6-9a91aab046d9"
      },
      "source": [
        "#нормализация\r\n",
        "from sklearn.preprocessing import scale\r\n",
        "X_poly_OV_scaled = scale(np.array(X_poly_OV))\r\n",
        "X_poly_OV_scaled"
      ],
      "execution_count": 40,
      "outputs": [
        {
          "output_type": "execute_result",
          "data": {
            "text/plain": [
              "array([[ 0.        , -0.91748128, -0.23607364, ..., -0.34755437,\n",
              "        -0.51194874, -0.5200104 ],\n",
              "       [ 0.        , -0.35104035, -0.25761852, ..., -1.21814166,\n",
              "        -0.51194874, -0.5200104 ],\n",
              "       [ 0.        , -1.04819842, -0.24222932, ..., -0.45125796,\n",
              "        -0.51194874, -0.5200104 ],\n",
              "       ...,\n",
              "       [ 0.        , -1.00462604, -0.2791634 , ..., -1.03687824,\n",
              "         1.54920209,  1.92303846],\n",
              "       [ 0.        , -0.83033652, -0.22991796, ..., -0.65343639,\n",
              "         1.70476064,  1.92303846],\n",
              "       [ 0.        , -0.91748128, -0.2329958 , ..., -0.13491844,\n",
              "        -0.51194874, -0.5200104 ]])"
            ]
          },
          "metadata": {
            "tags": []
          },
          "execution_count": 40
        }
      ]
    },
    {
      "cell_type": "code",
      "metadata": {
        "id": "T8q5CIxeb3-s"
      },
      "source": [
        "#делим на train и test\r\n",
        "from sklearn.model_selection import train_test_split\r\n",
        "X_poly_OV_scaled_train, X_poly_OV_scaled_test, y_OV_train, y_OV_test = train_test_split(X_poly_OV_scaled, y_OV, test_size=0.2)"
      ],
      "execution_count": 41,
      "outputs": []
    },
    {
      "cell_type": "code",
      "metadata": {
        "id": "2Z8fruyNcUHE"
      },
      "source": [
        "#импортируем необходимы модели обучения\r\n",
        "from sklearn.neighbors import KNeighborsClassifier\r\n",
        "from sklearn.svm import SVC\r\n",
        "from sklearn.linear_model import LogisticRegression\r\n",
        "\r\n",
        "knn = KNeighborsClassifier()\r\n",
        "svc = SVC()\r\n",
        "log = LogisticRegression()\r\n",
        "\r\n",
        "#создаем функцию для поиска гиперпараметра\r\n",
        "from sklearn.model_selection import RandomizedSearchCV\r\n",
        "\r\n",
        "knn_p = {'n_neighbors':np.array(np.linspace(0, 200, 200), dtype='int')}\r\n",
        "svc_p = {'C':np.logspace(-5, 5, 100), 'kernel':['linear', 'poly', 'rbf', 'sigmoid']}\r\n",
        "log_p = {'C':np.logspace(-5, 5, 100), 'penalty':['l1', 'l2']}\r\n",
        "\r\n",
        "knn_rc = RandomizedSearchCV(knn, knn_p, cv=5)\r\n",
        "svc_rc = RandomizedSearchCV(svc, svc_p, cv=5, n_jobs=5)\r\n",
        "log_rc = RandomizedSearchCV(log, log_p, cv=5, n_jobs=5)"
      ],
      "execution_count": 42,
      "outputs": []
    },
    {
      "cell_type": "code",
      "metadata": {
        "id": "A5om-eR-ftB3"
      },
      "source": [
        "#определение гиперпараметра для kNN\r\n",
        "knn_new = knn_rc.fit(X_poly_OV_scaled,y_OV)"
      ],
      "execution_count": 43,
      "outputs": []
    },
    {
      "cell_type": "code",
      "metadata": {
        "colab": {
          "base_uri": "https://localhost:8080/"
        },
        "id": "b817byCrh9Ee",
        "outputId": "8ed635fa-9690-4237-bf44-8e7dc2bbc9da"
      },
      "source": [
        "knn_rc.best_score_, knn_rc.best_params_"
      ],
      "execution_count": 44,
      "outputs": [
        {
          "output_type": "execute_result",
          "data": {
            "text/plain": [
              "(0.8964397063260586, {'n_neighbors': 6})"
            ]
          },
          "metadata": {
            "tags": []
          },
          "execution_count": 44
        }
      ]
    },
    {
      "cell_type": "code",
      "metadata": {
        "id": "EmzAUKqUisEJ"
      },
      "source": [
        "#применяем гиперпараметр\r\n",
        "knn_new = KNeighborsClassifier(n_neighbors=35)"
      ],
      "execution_count": 45,
      "outputs": []
    },
    {
      "cell_type": "code",
      "metadata": {
        "id": "6aHZGy33jXPX"
      },
      "source": [
        "#обучаем модель kNN и получаем предсказание\r\n",
        "model_knn = knn_new.fit(X_poly_OV_scaled_train, y_OV_train).predict(X_poly_OV_scaled_test)"
      ],
      "execution_count": 46,
      "outputs": []
    },
    {
      "cell_type": "code",
      "metadata": {
        "colab": {
          "base_uri": "https://localhost:8080/"
        },
        "id": "GeIvNQhZjrff",
        "outputId": "ba22b24d-3182-4977-a39b-b06adf71ca02"
      },
      "source": [
        "#смотрим метрики kNN\r\n",
        "from sklearn import metrics\r\n",
        "\r\n",
        "print(metrics.classification_report(y_OV_test, model_knn))"
      ],
      "execution_count": 47,
      "outputs": [
        {
          "output_type": "stream",
          "text": [
            "              precision    recall  f1-score   support\n",
            "\n",
            "           0       0.87      1.00      0.93        67\n",
            "           1       0.56      0.49      0.52        69\n",
            "           2       0.58      0.26      0.36        68\n",
            "           3       0.50      0.45      0.47        67\n",
            "           4       0.63      0.90      0.74        67\n",
            "           5       0.88      1.00      0.94        80\n",
            "           6       0.96      1.00      0.98        71\n",
            "\n",
            "    accuracy                           0.74       489\n",
            "   macro avg       0.71      0.73      0.71       489\n",
            "weighted avg       0.72      0.74      0.71       489\n",
            "\n"
          ],
          "name": "stdout"
        }
      ]
    },
    {
      "cell_type": "code",
      "metadata": {
        "id": "zMHfXE0NiWW_"
      },
      "source": [
        "#определение гиперпараметра для SVC\r\n",
        "svc_new = svc_rc.fit(X_poly_OV_scaled,y_OV)"
      ],
      "execution_count": null,
      "outputs": []
    },
    {
      "cell_type": "code",
      "metadata": {
        "id": "hpqaKnIDlFrP"
      },
      "source": [
        "svc_rc.best_score_, svc_rc.best_params_"
      ],
      "execution_count": null,
      "outputs": []
    },
    {
      "cell_type": "code",
      "metadata": {
        "id": "Ui78kKiulLGR"
      },
      "source": [
        "#применяем гиперпараметр\r\n",
        "svc_new = SVC(C=0.027185882427329403, kernel = 'linear')"
      ],
      "execution_count": null,
      "outputs": []
    },
    {
      "cell_type": "code",
      "metadata": {
        "id": "0U-2I7HtlmHZ"
      },
      "source": [
        "#обучаем модель SVC и получаем предсказание\r\n",
        "model_svc = svc_new.fit(X_poly_OV_scaled_train, y_OV_train).predict(X_poly_OV_scaled_test)"
      ],
      "execution_count": null,
      "outputs": []
    },
    {
      "cell_type": "code",
      "metadata": {
        "id": "yE_kCHP1lrxZ"
      },
      "source": [
        "#смотрим метрики SVC\r\n",
        "print(metrics.classification_report(y_OV_test, model_svc))"
      ],
      "execution_count": null,
      "outputs": []
    },
    {
      "cell_type": "code",
      "metadata": {
        "id": "qts-yruVlx3U"
      },
      "source": [
        "#определение гиперпараметра для Логистической Регрессии\r\n",
        "log_new = log_rc.fit(X_poly_OV_scaled,y_OV)"
      ],
      "execution_count": null,
      "outputs": []
    },
    {
      "cell_type": "code",
      "metadata": {
        "id": "VIgsK9FjmAtR"
      },
      "source": [
        "log_rc.best_score_, log_rc.best_params_"
      ],
      "execution_count": null,
      "outputs": []
    },
    {
      "cell_type": "code",
      "metadata": {
        "id": "vPDWg1OFmHoR"
      },
      "source": [
        "#применяем гиперпараметр\r\n",
        "log_new = LogisticRegression(C=19630.406500402685, penalty = 'l2')"
      ],
      "execution_count": null,
      "outputs": []
    },
    {
      "cell_type": "code",
      "metadata": {
        "id": "P6aKPzxVmZCX"
      },
      "source": [
        "#обучаем модель Логистической Регрессии и получаем предсказание\r\n",
        "model_log = log_new.fit(X_poly_OV_scaled_train, y_OV_train).predict(X_poly_OV_scaled_test)"
      ],
      "execution_count": null,
      "outputs": []
    },
    {
      "cell_type": "code",
      "metadata": {
        "id": "HSMlFwE3mZdJ"
      },
      "source": [
        "#смотрим метрики Логистической Регрессии\r\n",
        "print(metrics.classification_report(y_OV_test, model_log))"
      ],
      "execution_count": null,
      "outputs": []
    }
  ]
}